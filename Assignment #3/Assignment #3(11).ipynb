{
 "cells": [
  {
   "cell_type": "code",
   "execution_count": 5,
   "id": "a665ab96",
   "metadata": {},
   "outputs": [
    {
     "name": "stdout",
     "output_type": "stream",
     "text": [
      "Here is the list in ascending Order:  [3, 12, 15, 22, 44, 50, 100, 150]\n",
      "\n",
      "Largest number from a numeric list is:  150\n"
     ]
    }
   ],
   "source": [
    "\"\"\"# Q11\n",
    "#Write a Python program to get the largest number from a numeric list.\n",
    "# Method 1: using sort()method\"\"\"\n",
    "\n",
    "mylist = [12,22,44,3,50,15,100,150];\n",
    "mylist.sort();\n",
    "print(\"Here is the list in ascending Order: \",mylist);\n",
    "print(\"\\nLargest number from a numeric list is: \",mylist[-1]);"
   ]
  },
  {
   "cell_type": "code",
   "execution_count": 7,
   "id": "c6c4da48",
   "metadata": {},
   "outputs": [
    {
     "name": "stdout",
     "output_type": "stream",
     "text": [
      "Here is the list:  [12, 22, 44, 3, 50, 15, 100, 150]\n",
      "\n",
      "Largest number from a numeric list is:  150\n"
     ]
    }
   ],
   "source": [
    "\"\"\"# Q11\n",
    "#Write a Python program to get the largest number from a numeric list.\n",
    "# Method 2: using max() method\"\"\"\n",
    "\n",
    "mylist = [12,22,44,3,50,15,100,150];\n",
    "print(\"Here is the list: \",mylist);\n",
    "print(\"\\nLargest number from a numeric list is: \",max(mylist));"
   ]
  },
  {
   "cell_type": "code",
   "execution_count": null,
   "id": "524519d2",
   "metadata": {},
   "outputs": [],
   "source": []
  }
 ],
 "metadata": {
  "kernelspec": {
   "display_name": "Python 3",
   "language": "python",
   "name": "python3"
  },
  "language_info": {
   "codemirror_mode": {
    "name": "ipython",
    "version": 3
   },
   "file_extension": ".py",
   "mimetype": "text/x-python",
   "name": "python",
   "nbconvert_exporter": "python",
   "pygments_lexer": "ipython3",
   "version": "3.8.8"
  }
 },
 "nbformat": 4,
 "nbformat_minor": 5
}
