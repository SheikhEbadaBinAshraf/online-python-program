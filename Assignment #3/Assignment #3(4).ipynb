{
 "cells": [
  {
   "cell_type": "code",
   "execution_count": 2,
   "id": "480c75aa",
   "metadata": {},
   "outputs": [
    {
     "name": "stdout",
     "output_type": "stream",
     "text": [
      "Enter the Value of Radius: 20\n",
      "The Value of 'PI' is...  3.14\n",
      "\n",
      "The Value of 'Radius' is 20\n",
      "\n",
      "Formula of 'Area Of Circle' is... <A = pi * r^2>\n",
      "\n",
      "The Area Of Circle is:  1256.0\n"
     ]
    }
   ],
   "source": [
    "\"\"\"# Q4\n",
    "#Write a Python program which accepts the radius of a circle from the user and compute\n",
    "#the area.\"\"\"\n",
    "\n",
    "pi = 3.14;\n",
    "r = int(input(\"Enter the Value of Radius: \"));\n",
    "print(\"The Value of 'PI' is... \", pi);\n",
    "print(\"\\nThe Value of 'Radius' is\", r);\n",
    "print(\"\\nFormula of 'Area Of Circle' is... <A = pi * r^2>\");\n",
    "a = pi * r**2;\n",
    "print(\"\\nThe Area Of Circle is: \", a);"
   ]
  },
  {
   "cell_type": "code",
   "execution_count": null,
   "id": "b4b63afe",
   "metadata": {},
   "outputs": [],
   "source": []
  }
 ],
 "metadata": {
  "kernelspec": {
   "display_name": "Python 3",
   "language": "python",
   "name": "python3"
  },
  "language_info": {
   "codemirror_mode": {
    "name": "ipython",
    "version": 3
   },
   "file_extension": ".py",
   "mimetype": "text/x-python",
   "name": "python",
   "nbconvert_exporter": "python",
   "pygments_lexer": "ipython3",
   "version": "3.8.8"
  }
 },
 "nbformat": 4,
 "nbformat_minor": 5
}
