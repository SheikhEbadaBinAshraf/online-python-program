{
 "cells": [
  {
   "cell_type": "code",
   "execution_count": 3,
   "id": "16b59808",
   "metadata": {},
   "outputs": [
    {
     "name": "stdout",
     "output_type": "stream",
     "text": [
      "This is the list: [23, 14, 36, 666, 78, 90, 65, 37, 84, 100]\n",
      "\n",
      "The length of the list is:  10\n"
     ]
    }
   ],
   "source": [
    "\"\"\"# Q9\n",
    "#Write a program which print the length of the list?\"\"\"\n",
    "\n",
    "list_a = [23,14,36,666,78,90,65,37,84,100];\n",
    "list_length = len(list_a);\n",
    "print(\"This is the list:\",list_a);\n",
    "print(\"\\nThe length of the list is: \",list_length);"
   ]
  },
  {
   "cell_type": "code",
   "execution_count": null,
   "id": "9987aa11",
   "metadata": {},
   "outputs": [],
   "source": []
  }
 ],
 "metadata": {
  "kernelspec": {
   "display_name": "Python 3",
   "language": "python",
   "name": "python3"
  },
  "language_info": {
   "codemirror_mode": {
    "name": "ipython",
    "version": 3
   },
   "file_extension": ".py",
   "mimetype": "text/x-python",
   "name": "python",
   "nbconvert_exporter": "python",
   "pygments_lexer": "ipython3",
   "version": "3.8.8"
  }
 },
 "nbformat": 4,
 "nbformat_minor": 5
}
