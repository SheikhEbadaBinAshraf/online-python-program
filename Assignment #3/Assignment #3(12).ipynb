{
 "cells": [
  {
   "cell_type": "code",
   "execution_count": 5,
   "id": "8cf0bd42",
   "metadata": {},
   "outputs": [
    {
     "name": "stdout",
     "output_type": "stream",
     "text": [
      "These elements of the list are less than 5:  [1, 1, 2, 3]\n"
     ]
    }
   ],
   "source": [
    "\"\"\"# Q12\n",
    "#Take a list, say for example this one:\n",
    "#a = [1, 1, 2, 3, 5, 8, 13, 21, 34, 55, 89]\n",
    "#Write a program that prints out all the elements of the list that are less than 5.\"\"\"\n",
    "\n",
    "a = [1, 1, 2, 3, 5, 8, 13, 21, 34, 55, 89];\n",
    "list = [];\n",
    "\n",
    "for i in a:\n",
    "    if i < 5:\n",
    "        list.append(i);\n",
    "print(\"These elements of the list are less than 5: \",list);        "
   ]
  },
  {
   "cell_type": "code",
   "execution_count": null,
   "id": "26119d51",
   "metadata": {},
   "outputs": [],
   "source": []
  }
 ],
 "metadata": {
  "kernelspec": {
   "display_name": "Python 3",
   "language": "python",
   "name": "python3"
  },
  "language_info": {
   "codemirror_mode": {
    "name": "ipython",
    "version": 3
   },
   "file_extension": ".py",
   "mimetype": "text/x-python",
   "name": "python",
   "nbconvert_exporter": "python",
   "pygments_lexer": "ipython3",
   "version": "3.8.8"
  }
 },
 "nbformat": 4,
 "nbformat_minor": 5
}
