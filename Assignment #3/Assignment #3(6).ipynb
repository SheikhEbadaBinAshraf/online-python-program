{
 "cells": [
  {
   "cell_type": "code",
   "execution_count": 1,
   "id": "2b0cb84f",
   "metadata": {},
   "outputs": [
    {
     "name": "stdout",
     "output_type": "stream",
     "text": [
      "Enter 1st Number: 20\n",
      "\n",
      "Enter 2nd Number: 30\n",
      "\n",
      "The Sum of Your Given Two Numbers Are:  50\n"
     ]
    }
   ],
   "source": [
    "\"\"\"# Q6\n",
    "#Write a python program which takes two inputs from user and print them addition\"\"\"\n",
    "\n",
    "first_number = int(input(\"Enter 1st Number: \"));\n",
    "second_number = int(input(\"\\nEnter 2nd Number: \"));\n",
    "addition = first_number + second_number;\n",
    "print(\"\\nThe Sum of Your Given Two Numbers Are: \",addition);"
   ]
  },
  {
   "cell_type": "code",
   "execution_count": null,
   "id": "983def39",
   "metadata": {},
   "outputs": [],
   "source": []
  }
 ],
 "metadata": {
  "kernelspec": {
   "display_name": "Python 3",
   "language": "python",
   "name": "python3"
  },
  "language_info": {
   "codemirror_mode": {
    "name": "ipython",
    "version": 3
   },
   "file_extension": ".py",
   "mimetype": "text/x-python",
   "name": "python",
   "nbconvert_exporter": "python",
   "pygments_lexer": "ipython3",
   "version": "3.8.8"
  }
 },
 "nbformat": 4,
 "nbformat_minor": 5
}
