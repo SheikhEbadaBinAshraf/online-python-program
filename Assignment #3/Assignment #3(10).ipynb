{
 "cells": [
  {
   "cell_type": "code",
   "execution_count": 1,
   "id": "38c16d93",
   "metadata": {},
   "outputs": [
    {
     "name": "stdout",
     "output_type": "stream",
     "text": [
      "Sum of all numeric items in given list:  140\n"
     ]
    }
   ],
   "source": [
    "\"\"\"# Q10\n",
    "#Write a Python program to sum all the numeric items in a list?\n",
    "# 1st Method by using sum()method\"\"\" \n",
    "\n",
    "mylist = [15,20,25,30,35,10,5];\n",
    "total = sum(mylist);\n",
    "print(\"Sum of all numeric items in given list: \",total);"
   ]
  },
  {
   "cell_type": "code",
   "execution_count": 5,
   "id": "595e8bc2",
   "metadata": {},
   "outputs": [
    {
     "name": "stdout",
     "output_type": "stream",
     "text": [
      "Sum of all numeric items in given list:  140\n"
     ]
    }
   ],
   "source": [
    "\"\"\"# Q10\n",
    "#Write a Python program to sum all the numeric items in a list?\n",
    "# 2nd Method by using for loop with range()\"\"\"\n",
    "\n",
    "mylist = [15,20,25,30,35,10,5];\n",
    "total = 0;\n",
    "for i in range(0,len(mylist)):\n",
    "        total = total + mylist[i];\n",
    "print(\"Sum of all numeric items in given list: \",total);        \n",
    "    "
   ]
  },
  {
   "cell_type": "code",
   "execution_count": null,
   "id": "f2d114ae",
   "metadata": {},
   "outputs": [],
   "source": []
  }
 ],
 "metadata": {
  "kernelspec": {
   "display_name": "Python 3",
   "language": "python",
   "name": "python3"
  },
  "language_info": {
   "codemirror_mode": {
    "name": "ipython",
    "version": 3
   },
   "file_extension": ".py",
   "mimetype": "text/x-python",
   "name": "python",
   "nbconvert_exporter": "python",
   "pygments_lexer": "ipython3",
   "version": "3.8.8"
  }
 },
 "nbformat": 4,
 "nbformat_minor": 5
}
