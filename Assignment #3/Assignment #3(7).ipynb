{
 "cells": [
  {
   "cell_type": "code",
   "execution_count": 1,
   "id": "a62342e8",
   "metadata": {},
   "outputs": [
    {
     "name": "stdout",
     "output_type": "stream",
     "text": [
      "Enter Your Marks In Islamiat Paper Out of 100: 85\n",
      "\n",
      "Enter Your Marks In English Paper Out of 100: 80\n",
      "\n",
      "Enter Your Marks In Mathematics Paper Out of 100: 89\n",
      "\n",
      "Enter Your Marks In Urdu Paper Out of 100: 95\n",
      "\n",
      "Enter Your Marks In Computer Paper Out of 100: 100\n",
      "\n",
      "Marks_Obtained:  449\n",
      "Percentage:  89.8 %\n",
      "Grade 'A+'\n"
     ]
    }
   ],
   "source": [
    "\"\"\"# Q7\n",
    "#Write a program which takes 5 inputs from user for different subject’s marks, total it\n",
    "#and generate mark sheet using grades ?\"\"\"\n",
    "\n",
    "\n",
    "marks_of_isl = int(input(\"Enter Your Marks In Islamiat Paper Out of 100: \"));\n",
    "marks_of_eng = int(input(\"\\nEnter Your Marks In English Paper Out of 100: \"));\n",
    "marks_of_math = int(input(\"\\nEnter Your Marks In Mathematics Paper Out of 100: \"));\n",
    "marks_of_urdu = int(input(\"\\nEnter Your Marks In Urdu Paper Out of 100: \"));\n",
    "marks_of_comp = int(input(\"\\nEnter Your Marks In Computer Paper Out of 100: \"));\n",
    "marks_obtained = marks_of_isl + marks_of_eng + marks_of_math + marks_of_urdu + marks_of_comp;\n",
    "total_marks = 500;\n",
    "percentage = marks_obtained/total_marks*100;\n",
    "print(\"\\nMarks_Obtained: \", marks_obtained);\n",
    "print(\"Percentage: \", percentage,\"%\");\n",
    "if percentage < 100 and percentage >= 80:\n",
    "    print(\"Grade 'A+'\");\n",
    "elif percentage < 80 and percentage >= 70:\n",
    "    print(\"Grade 'A'\");\n",
    "elif percentage < 70 and percentage >= 60:\n",
    "    print(\"Grade 'B'\");\n",
    "elif percentage < 60 and percentage >= 50:\n",
    "    print(\"Grade 'C'\");\n",
    "elif percentage < 50 and percentage >= 40:\n",
    "    print(\"Grade 'D'\");\n",
    "elif percentage < 40 and percentage >= 33:\n",
    "    print(\"Grade 'E'\");\n",
    "elif percentage < 33:\n",
    "    print(\"FAIL\");\n",
    "else:\n",
    "    print(\"Sorry 'invalid number'\")"
   ]
  },
  {
   "cell_type": "code",
   "execution_count": null,
   "id": "b71a5d95",
   "metadata": {},
   "outputs": [],
   "source": []
  }
 ],
 "metadata": {
  "kernelspec": {
   "display_name": "Python 3",
   "language": "python",
   "name": "python3"
  },
  "language_info": {
   "codemirror_mode": {
    "name": "ipython",
    "version": 3
   },
   "file_extension": ".py",
   "mimetype": "text/x-python",
   "name": "python",
   "nbconvert_exporter": "python",
   "pygments_lexer": "ipython3",
   "version": "3.8.8"
  }
 },
 "nbformat": 4,
 "nbformat_minor": 5
}
