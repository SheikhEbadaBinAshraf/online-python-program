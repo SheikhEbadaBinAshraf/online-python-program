{
 "cells": [
  {
   "cell_type": "code",
   "execution_count": 4,
   "id": "99ea31d5",
   "metadata": {},
   "outputs": [
    {
     "name": "stdout",
     "output_type": "stream",
     "text": [
      "Python version I'm using right now'>>' 3.8.8 (default, Apr 13 2021, 15:08:03) [MSC v.1916 64 bit (AMD64)]\n"
     ]
    }
   ],
   "source": [
    "\"\"\"# Q2\n",
    "#Write a Python program to print the following string in a specific format (see the\n",
    "#output).\"\"\"\n",
    "\n",
    "import sys\n",
    "\n",
    "print(\"Python version I'm using right now'>>'\", sys.version);"
   ]
  },
  {
   "cell_type": "code",
   "execution_count": 1,
   "id": "bc9194d9",
   "metadata": {},
   "outputs": [
    {
     "name": "stdout",
     "output_type": "stream",
     "text": [
      "Python version I'm using right now'>>' 3.8.8 (default, Apr 13 2021, 15:08:03) [MSC v.1916 64 bit (AMD64)]\n"
     ]
    }
   ],
   "source": [
    "\"\"\"# Q2\n",
    "#Write a Python program to print the following string in a specific format (see the\n",
    "#output).\"\"\"\n",
    "\n",
    "import sys\n",
    "\n",
    "print(\"Python version I'm using right now'>>'\", sys.version);"
   ]
  },
  {
   "cell_type": "code",
   "execution_count": null,
   "id": "5b2750ca",
   "metadata": {},
   "outputs": [],
   "source": []
  }
 ],
 "metadata": {
  "kernelspec": {
   "display_name": "Python 3",
   "language": "python",
   "name": "python3"
  },
  "language_info": {
   "codemirror_mode": {
    "name": "ipython",
    "version": 3
   },
   "file_extension": ".py",
   "mimetype": "text/x-python",
   "name": "python",
   "nbconvert_exporter": "python",
   "pygments_lexer": "ipython3",
   "version": "3.8.8"
  }
 },
 "nbformat": 4,
 "nbformat_minor": 5
}
