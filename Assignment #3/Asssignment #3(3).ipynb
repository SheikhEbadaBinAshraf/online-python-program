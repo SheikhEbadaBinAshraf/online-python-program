{
 "cells": [
  {
   "cell_type": "code",
   "execution_count": 4,
   "id": "befe9737",
   "metadata": {},
   "outputs": [
    {
     "name": "stdout",
     "output_type": "stream",
     "text": [
      "Fri Oct 22 03:30:31 2021\n"
     ]
    }
   ],
   "source": [
    "\"\"\"# Q3\n",
    "#Write a Python program to display the current date and time.\n",
    "import time\"\"\"\n",
    "\n",
    "localtime = time.asctime(time.localtime(time.time()));\n",
    "print(localtime);\n",
    "\n",
    "\n"
   ]
  },
  {
   "cell_type": "code",
   "execution_count": 5,
   "id": "e91c41d6",
   "metadata": {},
   "outputs": [
    {
     "name": "stdout",
     "output_type": "stream",
     "text": [
      "Fri Oct 22 03:31:08 2021\n"
     ]
    }
   ],
   "source": [
    "\"\"\"# Q3\n",
    "#Write a Python program to display the current date and time.\"\"\"\n",
    "\n",
    "import time\n",
    "\n",
    "localtime = time.asctime(time.localtime(time.time()));\n",
    "print(localtime);\n",
    "\n"
   ]
  },
  {
   "cell_type": "code",
   "execution_count": 6,
   "id": "5d62bc66",
   "metadata": {},
   "outputs": [
    {
     "name": "stdout",
     "output_type": "stream",
     "text": [
      "Fri Oct 22 03:31:28 2021\n"
     ]
    }
   ],
   "source": [
    "\"\"\"# Q3\n",
    "#Write a Python program to display the current date and time.\"\"\"\n",
    "\n",
    "import time\n",
    "\n",
    "localtime = time.asctime(time.localtime(time.time()));\n",
    "print(localtime);\n",
    "\n"
   ]
  },
  {
   "cell_type": "code",
   "execution_count": null,
   "id": "24dc6903",
   "metadata": {},
   "outputs": [],
   "source": []
  },
  {
   "cell_type": "code",
   "execution_count": null,
   "id": "233bfb5c",
   "metadata": {},
   "outputs": [],
   "source": []
  }
 ],
 "metadata": {
  "kernelspec": {
   "display_name": "Python 3",
   "language": "python",
   "name": "python3"
  },
  "language_info": {
   "codemirror_mode": {
    "name": "ipython",
    "version": 3
   },
   "file_extension": ".py",
   "mimetype": "text/x-python",
   "name": "python",
   "nbconvert_exporter": "python",
   "pygments_lexer": "ipython3",
   "version": "3.8.8"
  }
 },
 "nbformat": 4,
 "nbformat_minor": 5
}
