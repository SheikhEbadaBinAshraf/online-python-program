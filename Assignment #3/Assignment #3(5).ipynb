{
 "cells": [
  {
   "cell_type": "code",
   "execution_count": 17,
   "id": "113892a1",
   "metadata": {},
   "outputs": [
    {
     "name": "stdout",
     "output_type": "stream",
     "text": [
      "Enter First Name: SHEIKH\n",
      "\n",
      "Enter Last Name: EBADA\n",
      "\n",
      "Name is in Simple Order:  SHEIKH EBADA\n",
      "Name is in Reverse Order:  ADABE HKIEHS\n"
     ]
    }
   ],
   "source": [
    "\"\"\"# Q5\n",
    "#Write a Python program which accepts the user's first and last name and print them in\n",
    "#reverse order with a space between them.\"\"\"\n",
    "\n",
    "first_name = input(\"Enter First Name: \");\n",
    "last_name = input(\"\\nEnter Last Name: \");\n",
    "last_name_reversed = last_name[::-1];\n",
    "first_name_reversed = first_name[::-1];\n",
    "print(\"\\nName is in Simple Order: \",first_name +\" \"+ last_name);\n",
    "print(\"Name is in Reverse Order: \",last_name_reversed +\" \"+  first_name_reversed);"
   ]
  },
  {
   "cell_type": "code",
   "execution_count": null,
   "id": "107f6691",
   "metadata": {},
   "outputs": [],
   "source": []
  }
 ],
 "metadata": {
  "kernelspec": {
   "display_name": "Python 3",
   "language": "python",
   "name": "python3"
  },
  "language_info": {
   "codemirror_mode": {
    "name": "ipython",
    "version": 3
   },
   "file_extension": ".py",
   "mimetype": "text/x-python",
   "name": "python",
   "nbconvert_exporter": "python",
   "pygments_lexer": "ipython3",
   "version": "3.8.8"
  }
 },
 "nbformat": 4,
 "nbformat_minor": 5
}
