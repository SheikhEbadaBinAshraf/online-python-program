{
 "cells": [
  {
   "cell_type": "code",
   "execution_count": 1,
   "id": "e83aff59",
   "metadata": {},
   "outputs": [
    {
     "name": "stdout",
     "output_type": "stream",
     "text": [
      "Enter The Number: 20\n",
      "20 is even number \n"
     ]
    }
   ],
   "source": [
    "\"\"\" Q8\n",
    "Write a program which take input from user and identify that the given number is even\n",
    "or odd?\"\"\"\n",
    "\n",
    "number = int(input(\"Enter The Number: \"));\n",
    "\n",
    "if (number % 2) == 0:\n",
    "    print(\"{0} is even number \".format(number));\n",
    "else:\n",
    "    print(\"{0} is odd number \".format(number));"
   ]
  },
  {
   "cell_type": "code",
   "execution_count": 2,
   "id": "140020bd",
   "metadata": {},
   "outputs": [
    {
     "name": "stdout",
     "output_type": "stream",
     "text": [
      "Enter The Number: 11\n",
      "11 is odd number \n"
     ]
    }
   ],
   "source": [
    "\"\"\"# Q8\n",
    "#Write a program which take input from user and identify that the given number is even\n",
    "#or odd?\"\"\"\n",
    "\n",
    "number = int(input(\"Enter The Number: \"));\n",
    "\n",
    "if (number % 2) == 0:\n",
    "    print(\"{0} is even number \".format(number));\n",
    "else:\n",
    "    print(\"{0} is odd number \".format(number));"
   ]
  },
  {
   "cell_type": "code",
   "execution_count": 3,
   "id": "bfd14bf6",
   "metadata": {},
   "outputs": [
    {
     "name": "stdout",
     "output_type": "stream",
     "text": [
      "Enter The Number: 5\n",
      "5 is odd number \n"
     ]
    }
   ],
   "source": [
    "\"\"\"# Q8\n",
    "#Write a program which take input from user and identify that the given number is even\n",
    "#or odd?\"\"\"\n",
    "\n",
    "number = int(input(\"Enter The Number: \"));\n",
    "\n",
    "if (number % 2) == 0:\n",
    "    print(\"{0} is even number \".format(number));\n",
    "else:\n",
    "    print(\"{0} is odd number \".format(number));"
   ]
  },
  {
   "cell_type": "code",
   "execution_count": 4,
   "id": "d5f223c5",
   "metadata": {},
   "outputs": [
    {
     "name": "stdout",
     "output_type": "stream",
     "text": [
      "Enter The Number: 15\n",
      "15 is odd number \n"
     ]
    }
   ],
   "source": [
    "\"\"\"# Q8\n",
    "#Write a program which take input from user and identify that the given number is even\n",
    "#or odd?\"\"\"\n",
    "\n",
    "number = int(input(\"Enter The Number: \"));\n",
    "\n",
    "if (number % 2) == 0:\n",
    "    print(\"{0} is even number \".format(number));\n",
    "else:\n",
    "    print(\"{0} is odd number \".format(number));"
   ]
  },
  {
   "cell_type": "code",
   "execution_count": null,
   "id": "36055451",
   "metadata": {},
   "outputs": [],
   "source": []
  }
 ],
 "metadata": {
  "kernelspec": {
   "display_name": "Python 3",
   "language": "python",
   "name": "python3"
  },
  "language_info": {
   "codemirror_mode": {
    "name": "ipython",
    "version": 3
   },
   "file_extension": ".py",
   "mimetype": "text/x-python",
   "name": "python",
   "nbconvert_exporter": "python",
   "pygments_lexer": "ipython3",
   "version": "3.8.8"
  }
 },
 "nbformat": 4,
 "nbformat_minor": 5
}
